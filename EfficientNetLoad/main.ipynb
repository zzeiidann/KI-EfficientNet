{
 "cells": [
  {
   "cell_type": "code",
   "execution_count": null,
   "id": "f9008013",
   "metadata": {
    "vscode": {
     "languageId": "plaintext"
    }
   },
   "outputs": [],
   "source": [
    "# convert_to_onnx.py\n",
    "import torch\n",
    "import torch.nn as nn\n",
    "from torchvision.models import efficientnet_b5\n",
    "import safetensors.torch\n",
    "\n",
    "# Load model\n",
    "model = efficientnet_b5(num_classes=2)\n",
    "\n",
    "# Load weights dari safetensors\n",
    "state_dict = safetensors.torch.load_file(\"best_model.safetensors\")\n",
    "model.load_state_dict(state_dict)\n",
    "model.eval()\n",
    "\n",
    "# Export ke ONNX\n",
    "dummy_input = torch.randn(1, 3, 224, 224)\n",
    "torch.onnx.export(\n",
    "    model,\n",
    "    dummy_input,\n",
    "    \"model.onnx\",\n",
    "    input_names=['input'],\n",
    "    output_names=['output'],\n",
    "    dynamic_axes={'input': {0: 'batch_size'}, 'output': {0: 'batch_size'}}\n",
    ")\n",
    "\n",
    "print(\"Model converted to ONNX!\")"
   ]
  }
 ],
 "metadata": {
  "language_info": {
   "name": "python"
  }
 },
 "nbformat": 4,
 "nbformat_minor": 5
}
